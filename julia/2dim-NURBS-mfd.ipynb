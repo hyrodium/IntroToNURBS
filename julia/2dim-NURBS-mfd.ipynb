{
 "cells": [
  {
   "cell_type": "code",
   "execution_count": 4,
   "metadata": {},
   "outputs": [
    {
     "data": {
      "text/plain": [
       "pref (generic function with 1 method)"
      ]
     },
     "execution_count": 4,
     "metadata": {},
     "output_type": "execute_result"
    }
   ],
   "source": [
    "using Luxor\n",
    "using IntervalSets\n",
    "using ForwardDiff\n",
    "using Plots\n",
    "gr()\n",
    "\n",
    "function Bsp(p,k,i::Int64,t)::Float64\n",
    "    if(p==0)\n",
    "        return k[i]≤t<k[i+1]||(k[i]≠k[i+1]==k[end]==t)\n",
    "    else\n",
    "        B=0;\n",
    "        if(k[i+p]-k[i]≠0)\n",
    "            B+=Bsp(p-1,k,i,t)*(t-k[i])/(k[i+p]-k[i])\n",
    "        end\n",
    "        if(k[i+p+1]-k[i+1]≠0)\n",
    "            B+=Bsp(p-1,k,i+1,t)*(k[i+p+1]-t)/(k[i+p+1]-k[i+1])\n",
    "        end\n",
    "        return B\n",
    "    end\n",
    "end\n",
    "\n",
    "function cof(f,a,b)\n",
    "    f(a),\n",
    "    3*(f(2*a/3+b/3)-(8*f(a)+f(b))/27)-3*(f(a/3+2*b/3)-(f(a)+8*f(b))/27)/2,\n",
    "    -3*(f(2*a/3+b/3)-(8*f(a)+f(b))/27)/2+3*(f(a/3+2*b/3)-(f(a)+8*f(b))/27),\n",
    "    f(b)\n",
    "end\n",
    "\n",
    "function fastuniq(v)\n",
    "  v1 = Vector{eltype(v)}()\n",
    "  if length(v)>0\n",
    "    laste = v[1]\n",
    "    push!(v1,laste)\n",
    "    for e in v\n",
    "      if !(e ≈ laste)\n",
    "        laste = e\n",
    "        push!(v1,laste)\n",
    "      end\n",
    "    end\n",
    "  end\n",
    "  return v1\n",
    "end\n",
    "\n",
    "function Mesh(k,partn)\n",
    "    K=fastuniq(k)\n",
    "    K=[K[i]+(j/(partn))*(K[i+1]-K[i]) for i in 1:(length(K)-1), j in 0:(partn-1)]\n",
    "    append!(sort(reshape(K,prod(size(K)))),k[end])\n",
    "end\n",
    "\n",
    "function BspSurface(N;name=\"NURBSmfd.svg\",up=5,down=-5,right=5,left=-5,step=50)\n",
    "    d,p,k,w,a=N\n",
    "    p₁,p₂=p\n",
    "    k₁,k₂=k\n",
    "    n₁,n₂=length(k₁)-p₁-1,length(k₂)-p₂-1\n",
    "    P(t)=sum(w[i₁,i₂]*Bsp(p₁,k₁,i₁,t[1])*Bsp(p₂,k₂,i₂,t[2])*a[i₁,i₂,:]/sum(w[j₁,j₂]Bsp(p₁,k₁,j₁,t[1])*Bsp(p₂,k₂,j₂,t[2]) for j₁ in 1:n₁,j₂ in 1:n₂) for i₁ in 1:n₁,i₂ in 1:n₂)\n",
    "\n",
    "    Drawing(step*(right-left),step*(up-down),name)\n",
    "    Luxor.origin(-step*left,step*up)\n",
    "    background(\"white\")\n",
    "    sethue(\"red\")\n",
    "\n",
    "    K₁=fastuniq(k₁[1+p₁:end-p₁])\n",
    "    K₂=fastuniq(k₂[1+p₂:end-p₂])\n",
    "    if((length(fastuniq(w))>1)||(p₁>3)||(p₂>3))\n",
    "        K₁=Mesh(K₁,10)\n",
    "        K₂=Mesh(K₂,10)\n",
    "    end\n",
    "    N₁=length(K₁)\n",
    "    N₂=length(K₂)\n",
    "    m₁=10\n",
    "    m₂=10\n",
    "    \n",
    "    for t₁ in linspace(K₁[1],K₁[end],m₁+1)\n",
    "        move(step*Point([1,-1].*P([t₁,K₂[1]])...))\n",
    "        for i in 1:(N₂-1)\n",
    "            a₁,a₂,a₃,a₄=cof(t->P([t₁,t]),K₂[i],K₂[i+1])\n",
    "            curve(step*Point([1,-1].*a₂...),step*Point([1,-1].*a₃...),step*Point([1,-1].*a₄...))\n",
    "        end\n",
    "        strokepath()\n",
    "    end\n",
    "\n",
    "    for t₂ in linspace(K₂[1],K₂[end],m₂+1)\n",
    "        move(step*Point([1,-1].*P([K₁[1],t₂])...))\n",
    "        for i in 1:(N₁-1)\n",
    "            a₁,a₂,a₃,a₄=cof(t->P([t,t₂]),K₁[i],K₁[i+1])\n",
    "            curve(step*Point([1,-1].*a₂...),step*Point([1,-1].*a₃...),step*Point([1,-1].*a₄...))\n",
    "        end\n",
    "        strokepath()\n",
    "    end\n",
    "\n",
    "    sethue(\"black\")\n",
    "    setline(1)\n",
    "    Cp=[step*Point([1,-1].*a[i,j,:]...) for i in 1:size(a)[1], j in 1:size(a)[2]]\n",
    "    map(p->circle(p,2,:fill), Cp)\n",
    "    for i in 1:size(a)[1]\n",
    "        poly(Cp[i,:], :stroke)\n",
    "    end\n",
    "    for j in 1:size(a)[2]\n",
    "        poly(Cp[:,j], :stroke)\n",
    "    end\n",
    "    \n",
    "    finish()\n",
    "end\n",
    "\n",
    "function href(N,k₊)\n",
    "    (d,p,k,w,a)=N\n",
    "    n=[length(k[l])-p[l]-1 for l in 1:d]\n",
    "    pᵣ=p\n",
    "    kᵣ=[sort(vcat(k[l],k₊[l])) for l in 1:d]\n",
    "    nᵣ=[length(kᵣ[l])-pᵣ[l]-1 for l in 1:d]\n",
    "    κ=[[((nᵣ[l]+1-i)/(nᵣ[l]+1))*kᵣ[l][i]+((i)/(nᵣ[l]+1))*kᵣ[l][i+pᵣ[l]+1] for i in 1:nᵣ[l]] for l in 1:d]\n",
    "    C=[[Bsp(pᵣ[l],kᵣ[l],i,κ[l][j]) for j in 1:nᵣ[l], i in 1:nᵣ[l]] for l in 1:d]\n",
    "    D=[C[l]\\[Bsp(p[l],k[l],j,κ[l][i]) for i in 1:nᵣ[l], j in 1:length(k[l])-p[l]-1] for l in 1:d]\n",
    "    wᵣ=[sum(w[i₁,i₂]*D[1][l₁,i₁]*D[2][l₂,i₂] for i₁ in 1:length(k[1])-p[1]-1, i₂ in 1:length(k[2])-p[2]-1) for l₁ in 1:nᵣ[1], l₂ in 1:nᵣ[2]]\n",
    "    aᵣ=[sum(w[i₁,i₂]*D[1][l₁,i₁]*D[2][l₂,i₂]*a[i₁,i₂,j] for i₁ in 1:length(k[1])-p[1]-1, i₂ in 1:length(k[2])-p[2]-1) for l₁ in 1:nᵣ[1], l₂ in 1:nᵣ[2], j in 1:2]./wᵣ\n",
    "    Nᵣ=(d,pᵣ,kᵣ,wᵣ,aᵣ)\n",
    "end\n",
    "\n",
    "function pref(N,p₊)\n",
    "    (d,p,k,w,a)=N\n",
    "    n=[length(k[l])-p[l]-1 for l in 1:d]\n",
    "    pᵣ=p+p₊\n",
    "    k₊=[repeat(fastuniq(k[l]),inner=p₊[l]) for l in 1:d]\n",
    "    kᵣ=[sort(vcat(k[l],k₊[l])) for l in 1:d]\n",
    "    nᵣ=[length(kᵣ[l])-pᵣ[l]-1 for l in 1:d]\n",
    "    κ=[[((nᵣ[l]+1-i)/(nᵣ[l]+1))*kᵣ[l][i]+((i)/(nᵣ[l]+1))*kᵣ[l][i+pᵣ[l]+1] for i in 1:nᵣ[l]] for l in 1:d]\n",
    "    C=[[Bsp(pᵣ[l],kᵣ[l],i,κ[l][j]) for j in 1:nᵣ[l], i in 1:nᵣ[l]] for l in 1:d]\n",
    "    D=[C[l]\\[Bsp(p[l],k[l],j,κ[l][i]) for i in 1:nᵣ[l], j in 1:length(k[l])-p[l]-1] for l in 1:d]\n",
    "    wᵣ=[sum(w[i₁,i₂]*D[1][l₁,i₁]*D[2][l₂,i₂] for i₁ in 1:length(k[1])-p[1]-1, i₂ in 1:length(k[2])-p[2]-1) for l₁ in 1:nᵣ[1], l₂ in 1:nᵣ[2]]\n",
    "    aᵣ=[sum(w[i₁,i₂]*D[1][l₁,i₁]*D[2][l₂,i₂]*a[i₁,i₂,j] for i₁ in 1:length(k[1])-p[1]-1, i₂ in 1:length(k[2])-p[2]-1) for l₁ in 1:nᵣ[1], l₂ in 1:nᵣ[2], j in 1:2]./wᵣ\n",
    "    Nᵣ=(d,pᵣ,kᵣ,wᵣ,aᵣ)\n",
    "end"
   ]
  },
  {
   "cell_type": "code",
   "execution_count": 7,
   "metadata": {},
   "outputs": [
    {
     "data": {
      "text/plain": [
       "(2, [2, 3], Array{Int64,1}[[0, 0, 0, 1, 2, 5, 5, 5], [0, 0, 0, 0, 7, 7, 7, 7]], [1 1 1 1; 1 1 1 1; … ; 1 1 1 1; 1 1 1 1], [-2.24873 -1.83294 -1.95363 -2.02465; -1.06937 -0.711976 -0.780874 -1.32435; … ; 1.26335 1.32781 0.798915 1.44142; 2.31281 2.23476 1.8539 1.95432]\n",
       "\n",
       "[-1.96938 -1.20529 0.43931 1.26382; -2.23539 -0.660634 0.374967 0.58342; … ; -2.12239 -1.3856 -0.19823 1.40417; -2.00616 -1.39238 -0.420149 1.1918])"
      ]
     },
     "execution_count": 7,
     "metadata": {},
     "output_type": "execute_result"
    }
   ],
   "source": [
    "d=2\n",
    "p=[2,3]\n",
    "k=[[0,0,0,1,2,5,5,5],[0,0,0,0,7,7,7,7]]\n",
    "w=[1 for i in -2:2, j in -2:1]\n",
    "a=[j*k+i*(1-k) for i in -2:2, j in -2:1, k in [0,1]]+(rand(5,4,2)-1/2)*0.9\n",
    "N=(d,p,k,w,a)"
   ]
  },
  {
   "cell_type": "code",
   "execution_count": 8,
   "metadata": {},
   "outputs": [
    {
     "name": "stdout",
     "output_type": "stream",
     "text": [
      "[0, 0, 1, 1, 2, 2, 5, 5]\n",
      "Array{Int64,1}[[0, 0, 1, 1, 2, 2, 5, 5], [0, 0, 0, 7, 7, 7]]"
     ]
    },
    {
     "data": {
      "text/plain": [
       "true"
      ]
     },
     "execution_count": 8,
     "metadata": {},
     "output_type": "execute_result"
    }
   ],
   "source": [
    "BspSurface(N,name=\"2dim.svg\")\n",
    "k₊=[[0.5,1.2,4,4.5],[]];\n",
    "BspSurface(href(N,k₊),name=\"2dimh.svg\")\n",
    "p₊=[2,3];\n",
    "BspSurface(pref(N,p₊),name=\"2dimp.svg\")"
   ]
  }
 ],
 "metadata": {
  "kernelspec": {
   "display_name": "Julia 0.6.3",
   "language": "julia",
   "name": "julia-0.6"
  },
  "language_info": {
   "file_extension": ".jl",
   "mimetype": "application/julia",
   "name": "julia",
   "version": "0.6.3"
  }
 },
 "nbformat": 4,
 "nbformat_minor": 2
}
