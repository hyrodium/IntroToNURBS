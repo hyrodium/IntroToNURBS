{
 "cells": [
  {
   "cell_type": "code",
   "execution_count": 1,
   "metadata": {},
   "outputs": [
    {
     "data": {
      "text/plain": [
       "SVGb (generic function with 1 method)"
      ]
     },
     "execution_count": 1,
     "metadata": {},
     "output_type": "execute_result"
    }
   ],
   "source": [
    "using Luxor\n",
    "using IntervalSets\n",
    "using ForwardDiff\n",
    "using Plots\n",
    "gr()\n",
    "\n",
    "function Bsp(p,k,i::Int64,t)::Float64\n",
    "    if(p==0)\n",
    "        return k[i]≤t<k[i+1]||(k[i]≠k[i+1]==k[end]==t)\n",
    "    else\n",
    "        B=0;\n",
    "        if(k[i+p]-k[i]≠0)\n",
    "            B+=Bsp(p-1,k,i,t)*(t-k[i])/(k[i+p]-k[i])\n",
    "        end\n",
    "        if(k[i+p+1]-k[i+1]≠0)\n",
    "            B+=Bsp(p-1,k,i+1,t)*(k[i+p+1]-t)/(k[i+p+1]-k[i+1])\n",
    "        end\n",
    "        return B\n",
    "    end\n",
    "end\n",
    "\n",
    "function cof(f,a,b)\n",
    "    f(a),\n",
    "    3*(f(2*a/3+b/3)-(8*f(a)+f(b))/27)-3*(f(a/3+2*b/3)-(f(a)+8*f(b))/27)/2,\n",
    "    -3*(f(2*a/3+b/3)-(8*f(a)+f(b))/27)/2+3*(f(a/3+2*b/3)-(f(a)+8*f(b))/27),\n",
    "    f(b)\n",
    "end\n",
    "\n",
    "function fastuniq(v)\n",
    "  v1 = Vector{eltype(v)}()\n",
    "  if length(v)>0\n",
    "    laste = v[1]\n",
    "    push!(v1,laste)\n",
    "    for e in v\n",
    "      if !(e ≈ laste)\n",
    "        laste = e\n",
    "        push!(v1,laste)\n",
    "      end\n",
    "    end\n",
    "  end\n",
    "  return v1\n",
    "end\n",
    "\n",
    "function Mesh(k,partn)\n",
    "    K=fastuniq(k)\n",
    "    K=[K[i]+(j/(partn))*(K[i+1]-K[i]) for i in 1:(length(K)-1), j in 0:(partn-1)]\n",
    "    append!(sort(reshape(K,prod(size(K)))),k[end])\n",
    "end\n",
    "\n",
    "function BspCurve(N;name=\"NURBSmfd.svg\",up=5,down=-5,right=5,left=-5,step=50)\n",
    "    d,p,k,w,a=N\n",
    "\n",
    "    P(t)=sum(w[i]Bsp(p,k,i,t)*a[i,:]/sum(w[j]Bsp(p,k,j,t) for j in 1:(length(k)-p-1)) for i in 1:(length(k)-p-1))\n",
    "    \n",
    "    Drawing(step*(right-left),step*(up-down),name)\n",
    "    Luxor.origin(-step*left,step*up)\n",
    "    background(\"white\")\n",
    "    sethue(\"red\")\n",
    "    K=fastuniq(k[1+p:end-p])\n",
    "    move(step*Point([1,-1].*P(K[1])...))\n",
    "\n",
    "    if((length(fastuniq(w))>1)||(p>3))\n",
    "        K=Mesh(K,10)\n",
    "    end\n",
    "    N=length(K)\n",
    "    for i in 1:(N-1)\n",
    "        a₁,a₂,a₃,a₄=cof(t->P(t),K[i],K[i+1])\n",
    "        curve(step*Point([1,-1].*a₂...),step*Point([1,-1].*a₃...),step*Point([1,-1].*a₄...))\n",
    "    end\n",
    "    strokepath()\n",
    "    \n",
    "    sethue(\"black\")\n",
    "    setline(1)\n",
    "    Cp=[step*Point([1,-1].*a[i,:]...) for i in 1:size(a)[1]]\n",
    "    map(p->circle(p,2,:fill), Cp)\n",
    "    poly(Cp, :stroke)\n",
    "    \n",
    "    finish()\n",
    "end\n",
    "\n",
    "function href(N,k₊)\n",
    "    (d,p,k,w,a)=N\n",
    "    n=length(k)-p-1\n",
    "    pᵣ=p\n",
    "    kᵣ=sort(vcat(k,k₊))\n",
    "    nᵣ=length(kᵣ)-pᵣ-1\n",
    "    κ=[((nᵣ+1-i)/(nᵣ+1))*kᵣ[i]+(i/(nᵣ+1))*kᵣ[i+pᵣ+1] for i in 1:nᵣ]\n",
    "    C=[Bsp(pᵣ,kᵣ,i,κ[j]) for j in 1:nᵣ, i in 1:nᵣ]\n",
    "    D=C\\[Bsp(p,k,j,κ[i]) for i in 1:nᵣ, j in 1:n]\n",
    "    wᵣ=D*w\n",
    "    aᵣ=[sum(w[i]*D[l,i]*a[i,j] for i in 1:n) for l in 1:nᵣ, j in 1:2]./wᵣ\n",
    "    Nᵣ=(d,pᵣ,kᵣ,wᵣ,aᵣ)\n",
    "end\n",
    "\n",
    "function pref(N,p₊)\n",
    "    (d,p,k,w,a)=N\n",
    "    n=length(k)-p-1\n",
    "    pᵣ=p+p₊\n",
    "    k₊=repeat(fastuniq(k),inner=p₊)\n",
    "    kᵣ=sort(vcat(k,k₊))\n",
    "    nᵣ=length(kᵣ)-pᵣ-1\n",
    "    κ=[((nᵣ+1-i)/(nᵣ+1))*kᵣ[i]+(i/(nᵣ+1))*kᵣ[i+pᵣ+1] for i in 1:nᵣ]\n",
    "    C=[Bsp(pᵣ,kᵣ,i,κ[j]) for j in 1:nᵣ, i in 1:nᵣ]\n",
    "    D=C\\[Bsp(p,k,j,κ[i]) for i in 1:nᵣ, j in 1:n]\n",
    "    wᵣ=D*w\n",
    "    aᵣ=[sum(w[i]*D[l,i]*a[i,j] for i in 1:n) for l in 1:nᵣ, j in 1:2]./wᵣ\n",
    "    Nᵣ=(d,pᵣ,kᵣ,wᵣ,aᵣ)\n",
    "end\n",
    "\n",
    "function SVGb(p,k;name=\"BCA.svg\",up=5,down=-5,right=5,left=-5,step=50)\n",
    "    N=length(k)\n",
    "    \n",
    "    Drawing(step*(right-left),step*(up-down),name)\n",
    "    Luxor.origin(-step*left,step*up)\n",
    "    background(\"white\")\n",
    "    sethue(\"blue\")\n",
    "    move(step*Point([1,-1].*p(k[1])...))\n",
    "    for i in 1:(N-1)\n",
    "        a₁,a₂,a₃,a₄=cof(t->p(t),k[i],k[i+1])\n",
    "        curve(step*Point([1,-1].*a₂...),step*Point([1,-1].*a₃...),step*Point([1,-1].*a₄...))\n",
    "    end\n",
    "    strokepath()\n",
    "    finish()\n",
    "end"
   ]
  },
  {
   "cell_type": "code",
   "execution_count": 7,
   "metadata": {},
   "outputs": [
    {
     "data": {
      "text/plain": [
       "true"
      ]
     },
     "execution_count": 7,
     "metadata": {},
     "output_type": "execute_result"
    }
   ],
   "source": [
    "d=1\n",
    "p=3\n",
    "k=[0,1,2.2,4,5,8,10.5,12,13,15]\n",
    "k=[-5,-2,-1,0,5,8,10,11,12,15]\n",
    "w=[1,1,4,1,1/3,1,1,1]\n",
    "w=[1 for i in 1:(length(k)-p-1)]\n",
    "a=(2*rand(length(k)-p-1,2)-1)*5\n",
    "a=reshape([-3,-0.1,3,3.8,2,-2.5,\n",
    "        -4,-3,-4.3,-1,3,2],6,2)+a/10\n",
    "N=(d,p,k,w,a)\n",
    "BspCurve(N,name=\"A.svg\")\n",
    "# k₊=[2.5];\n",
    "# BspCurve(href(N,k₊),name=\"1dimh.svg\")\n",
    "# p₊=2\n",
    "# BspCurve(pref(N,p₊),name=\"1dimp.svg\")\n",
    "\n",
    "SVGb((t->sum(Bsp(p,k,i,t)*a[i,:] for i in 1:(length(k)-p-1))),k,name=\"A-curve.svg\")\n",
    "for i in 1:(length(k)-p-1)\n",
    "    SVGb(t->[t/5,Bsp(p,k,i,t)],k,name=\"A-Bsp\"*string(i)*\".svg\",up=2,down=-1,right=maximum(k)/5+1,left=minimum(k)-1)\n",
    "end\n",
    "SVGb(t->[t/5,sum(Bsp(p,k,i,t) for i in 1:(length(k)-p-1))],k,name=\"Asum.svg\",up=2,down=-1,right=maximum(k)/5+1,left=minimum(k)-1)"
   ]
  },
  {
   "cell_type": "code",
   "execution_count": 3,
   "metadata": {},
   "outputs": [
    {
     "data": {
      "text/plain": [
       "true"
      ]
     },
     "execution_count": 3,
     "metadata": {},
     "output_type": "execute_result"
    }
   ],
   "source": [
    "d=1\n",
    "p=3\n",
    "k=[0,0,0,0,5,8,10,10,10,10]\n",
    "w=[1,1,4,1,1/3,1,1,1]\n",
    "w=[1 for i in 1:(length(k)-p-1)]\n",
    "a=(2*rand(length(k)-p-1,2)-1)*5\n",
    "a=reshape([-3,-0.1,3,3.8,2,-2.5,\n",
    "        -4,-3,-4.3,-1,3,2],6,2)+a/10\n",
    "N=(d,p,k,w,a)\n",
    "BspCurve(N,name=\"B.svg\")\n",
    "# k₊=[2.5];\n",
    "# BspCurve(href(N,k₊),name=\"1dimh.svg\")\n",
    "# p₊=2\n",
    "# BspCurve(pref(N,p₊),name=\"1dimp.svg\")\n",
    "\n",
    "for i in 1:(length(k)-p-1)\n",
    "    SVGb(t->[t/5,Bsp(p,k,i,t)],k,name=\"B-Bsp\"*string(i)*\".svg\",up=2,down=-1,right=maximum(k)/5+1,left=minimum(k)-1)\n",
    "end\n",
    "SVGb(t->[t/5,sum(Bsp(p,k,i,t) for i in 1:(length(k)-p-1))],k,name=\"Bsum.svg\",up=2,down=-1,right=maximum(k)/5+1,left=minimum(k)-1)"
   ]
  },
  {
   "cell_type": "code",
   "execution_count": 15,
   "metadata": {},
   "outputs": [
    {
     "data": {
      "text/plain": [
       "true"
      ]
     },
     "execution_count": 15,
     "metadata": {},
     "output_type": "execute_result"
    }
   ],
   "source": [
    "d=1\n",
    "p=3\n",
    "k=[0,1,3,5,6,7,10,11,13,15,16,17,20]\n",
    "w=[1 for i in 1:(length(k)-p-1)]\n",
    "# a=(2*rand(length(k)-p-1,2)-1)*5\n",
    "a=reshape([-3,-0.1,3,3.8,2,-2.5,-3,-0.1,3,\n",
    "        -4,-3,-4.3,-1,3,2,-4,-3,-4.3],9,2)\n",
    "N=(d,p,k,w,a)\n",
    "BspCurve(N,name=\"C.svg\")\n",
    "# k₊=[2.5];\n",
    "# BspCurve(href(N,k₊),name=\"1dimh.svg\")\n",
    "# p₊=2\n",
    "# BspCurve(pref(N,p₊),name=\"1dimp.svg\")\n",
    "\n",
    "for i in 1:(length(k)-p-1)\n",
    "    SVGb(t->[t/5,Bsp(p,k,i,t)],k,name=\"C-Bsp\"*string(i)*\".svg\",up=2,down=-1,right=maximum(k)/5+1,left=minimum(k)-1)\n",
    "end\n",
    "SVGb(t->[t/5,sum(Bsp(p,k,i,t) for i in 1:(length(k)-p-1))],k,name=\"Csum.svg\",up=2,down=-1,right=maximum(k)/5+1,left=minimum(k)-1)"
   ]
  },
  {
   "cell_type": "code",
   "execution_count": 14,
   "metadata": {},
   "outputs": [
    {
     "data": {
      "text/plain": [
       "9"
      ]
     },
     "execution_count": 14,
     "metadata": {},
     "output_type": "execute_result"
    }
   ],
   "source": [
    "length(k)-p-1"
   ]
  },
  {
   "cell_type": "code",
   "execution_count": null,
   "metadata": {},
   "outputs": [],
   "source": []
  },
  {
   "cell_type": "code",
   "execution_count": 11,
   "metadata": {},
   "outputs": [
    {
     "data": {
      "text/plain": [
       "SVGb (generic function with 2 methods)"
      ]
     },
     "execution_count": 11,
     "metadata": {},
     "output_type": "execute_result"
    }
   ],
   "source": []
  },
  {
   "cell_type": "code",
   "execution_count": 80,
   "metadata": {},
   "outputs": [],
   "source": [
    "for i in 1:(length(k)-p-1)\n",
    "    SVGb(t->[t/5,Bsp(p,k,i,t)],k,name=\"Bsp\"*string(i)*\".svg\",up=2,down=-1,right=maximum(k)/5+1,left=minimum(k)-1)\n",
    "end"
   ]
  },
  {
   "cell_type": "code",
   "execution_count": 85,
   "metadata": {},
   "outputs": [
    {
     "data": {
      "text/plain": [
       "2-element Array{Float64,1}:\n",
       " 0.0\n",
       " 0.0"
      ]
     },
     "execution_count": 85,
     "metadata": {},
     "output_type": "execute_result"
    }
   ],
   "source": [
    "(t->sum(Bsp(p,k,i,t)*a[i,:] for i in 1:(length(k)-p-1)))(0)"
   ]
  },
  {
   "cell_type": "code",
   "execution_count": 5,
   "metadata": {},
   "outputs": [
    {
     "data": {
      "text/plain": [
       "true"
      ]
     },
     "execution_count": 5,
     "metadata": {},
     "output_type": "execute_result"
    }
   ],
   "source": []
  },
  {
   "cell_type": "code",
   "execution_count": 88,
   "metadata": {},
   "outputs": [],
   "source": []
  },
  {
   "cell_type": "code",
   "execution_count": null,
   "metadata": {},
   "outputs": [],
   "source": []
  },
  {
   "cell_type": "code",
   "execution_count": null,
   "metadata": {},
   "outputs": [],
   "source": []
  },
  {
   "cell_type": "code",
   "execution_count": 110,
   "metadata": {},
   "outputs": [
    {
     "data": {
      "text/plain": [
       "true"
      ]
     },
     "execution_count": 110,
     "metadata": {},
     "output_type": "execute_result"
    }
   ],
   "source": []
  },
  {
   "cell_type": "code",
   "execution_count": null,
   "metadata": {},
   "outputs": [],
   "source": []
  }
 ],
 "metadata": {
  "kernelspec": {
   "display_name": "Julia 0.6.3",
   "language": "julia",
   "name": "julia-0.6"
  },
  "language_info": {
   "file_extension": ".jl",
   "mimetype": "application/julia",
   "name": "julia",
   "version": "0.6.3"
  }
 },
 "nbformat": 4,
 "nbformat_minor": 2
}
