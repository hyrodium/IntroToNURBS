{
 "cells": [
  {
   "cell_type": "code",
   "execution_count": 1,
   "metadata": {},
   "outputs": [],
   "source": [
    "using Luxor\n",
    "using IntervalSets\n",
    "using ForwardDiff"
   ]
  },
  {
   "cell_type": "code",
   "execution_count": 5,
   "metadata": {},
   "outputs": [
    {
     "data": {
      "text/plain": [
       "SVGb (generic function with 2 methods)"
      ]
     },
     "execution_count": 5,
     "metadata": {},
     "output_type": "execute_result"
    }
   ],
   "source": [
    "function SVGa(p,k;name=\"BCA.svg\",up=5,down=-5,right=5,left=-5,step=50)\n",
    "    N=length(k)\n",
    "    ṗ(t)=ForwardDiff.derivative(p,t)\n",
    "    P=[p(kᵢ) for kᵢ in k]\n",
    "    Ṗ=[ṗ(kᵢ) for kᵢ in k]\n",
    "    Q=[p((k[i]+k[i+1])/2) for i in 1:(N-1)]\n",
    "    \n",
    "    Drawing(step*(right-left),step*(up-down),name)\n",
    "    Luxor.origin(-step*left,step*up)\n",
    "    background(\"white\")\n",
    "    sethue(\"red\")\n",
    "    move(step*Point([1,-1].*P[1]...))\n",
    "    for i in 1:(N-1)\n",
    "        (l₁,l₂)=(4/3)*inv(hcat(-Ṗ[i],Ṗ[i+1]))*(P[i]+P[i+1]-2*Q[i])\n",
    "        curve(step*Point([1,-1].*(P[i]+l₁*Ṗ[i])...),step*Point([1,-1].*(P[i+1]-l₂*Ṗ[i+1])...),step*Point([1,-1].*(P[i+1])...))\n",
    "    end\n",
    "    strokepath()\n",
    "    finish()\n",
    "end\n",
    "\n",
    "function cof(f,a,b)\n",
    "    f(a),\n",
    "    3*(f(2*a/3+b/3)-(8*f(a)+f(b))/27)-3*(f(a/3+2*b/3)-(f(a)+8*f(b))/27)/2,\n",
    "    -3*(f(2*a/3+b/3)-(8*f(a)+f(b))/27)/2+3*(f(a/3+2*b/3)-(f(a)+8*f(b))/27),\n",
    "    f(b)\n",
    "end\n",
    "\n",
    "function SVGb(p,k;name=\"BCA.svg\",up=5,down=-5,right=5,left=-5,step=50)\n",
    "    N=length(k)\n",
    "    \n",
    "    Drawing(step*(right-left),step*(up-down),name)\n",
    "    Luxor.origin(-step*left,step*up)\n",
    "    background(\"white\")\n",
    "    sethue(\"blue\")\n",
    "    move(step*Point([1,-1].*p(k[1])...))\n",
    "    for i in 1:(N-1)\n",
    "        a₁,a₂,a₃,a₄=cof(t->p(t),k[i],k[i+1])\n",
    "        curve(step*Point([1,-1].*a₂...),step*Point([1,-1].*a₃...),step*Point([1,-1].*a₄...))\n",
    "    end\n",
    "    strokepath()\n",
    "    finish()\n",
    "end\n",
    "\n",
    "function SVGb(p,k,n;name=\"BCA.svg\",up=5,down=-5,right=5,left=-5,step=50)\n",
    "    k₁,k₂=k\n",
    "    n₁,n₂=n\n",
    "    K₁,K₂=linspace(minimum(k₁),maximum(k₁),n₁+1), linspace(minimum(k₂),maximum(k₂),n₂+1)\n",
    "    N₁,N₂=length(k₁),length(k₂)\n",
    "\n",
    "    Drawing(step*(right-left),step*(up-down),name)\n",
    "    Luxor.origin(-step*left,step*up)\n",
    "    background(\"white\")\n",
    "    sethue(\"blue\")\n",
    "\n",
    "    for j in 1:(n₂+1)\n",
    "        move(step*Point([1,-1].*p([k₁[1],K₂[j]])...))\n",
    "        for i in 1:(N₁-1)\n",
    "            a₁,a₂,a₃,a₄=cof(t->p([t,K₂[j]]),k₁[i],k₁[i+1])\n",
    "            curve(step*Point([1,-1].*a₂...),step*Point([1,-1].*a₃...),step*Point([1,-1].*a₄...))\n",
    "        end\n",
    "    end\n",
    "    for j in 1:(n₁+1)\n",
    "        move(step*Point([1,-1].*p([K₁[j],k₂[1]])...))\n",
    "        for i in 1:(N₂-1)\n",
    "            a₁,a₂,a₃,a₄=cof(t->p([K₁[j],t]),k₂[i],k₂[i+1])\n",
    "            curve(step*Point([1,-1].*a₂...),step*Point([1,-1].*a₃...),step*Point([1,-1].*a₄...))\n",
    "        end\n",
    "    end\n",
    "    strokepath()\n",
    "    finish()\n",
    "end"
   ]
  },
  {
   "cell_type": "code",
   "execution_count": 8,
   "metadata": {},
   "outputs": [
    {
     "data": {
      "text/plain": [
       "true"
      ]
     },
     "execution_count": 8,
     "metadata": {},
     "output_type": "execute_result"
    }
   ],
   "source": [
    "p(t)=[cos(5t),cos(3t)+sin(3t)]\n",
    "k=linspace(0,2π,60);\n",
    "SVGa(p,k,name=\"sa.svg\")\n",
    "SVGb(p,k,name=\"sb.svg\")"
   ]
  },
  {
   "cell_type": "code",
   "execution_count": 9,
   "metadata": {},
   "outputs": [
    {
     "data": {
      "text/plain": [
       "true"
      ]
     },
     "execution_count": 9,
     "metadata": {},
     "output_type": "execute_result"
    }
   ],
   "source": [
    "p(t)=[t[1]*cos(t[2]),t[1]*sin(t[2])]\n",
    "k=linspace(0,2,60), linspace(0,π/2,60);\n",
    "n=4,3\n",
    "SVGb(p,k,n)"
   ]
  },
  {
   "cell_type": "code",
   "execution_count": 64,
   "metadata": {},
   "outputs": [
    {
     "data": {
      "text/plain": [
       "B (generic function with 1 method)"
      ]
     },
     "execution_count": 64,
     "metadata": {},
     "output_type": "execute_result"
    }
   ],
   "source": [
    "B(i,p,t)=binomial(p,i-1)t^(i-1)*(1-t)^(p-i+1)"
   ]
  },
  {
   "cell_type": "code",
   "execution_count": 1,
   "metadata": {},
   "outputs": [
    {
     "ename": "LoadError",
     "evalue": "\u001b[91mUndefVarError: SVGb not defined\u001b[39m",
     "output_type": "error",
     "traceback": [
      "\u001b[91mUndefVarError: SVGb not defined\u001b[39m",
      "",
      "Stacktrace:",
      " [1] \u001b[1mmacro expansion\u001b[22m\u001b[22m at \u001b[1m./In[1]:3\u001b[22m\u001b[22m [inlined]",
      " [2] \u001b[1manonymous\u001b[22m\u001b[22m at \u001b[1m./<missing>:?\u001b[22m\u001b[22m"
     ]
    }
   ],
   "source": [
    "q=5\n",
    "for i in 1:(q+1)\n",
    "SVGb(t->[t/15,B(i,q,t)],linspace(0,1,50),name=\"bernstein\"*string(q)*\"-\"*string(i)*\".svg\")\n",
    "end"
   ]
  },
  {
   "cell_type": "code",
   "execution_count": null,
   "metadata": {},
   "outputs": [],
   "source": []
  }
 ],
 "metadata": {
  "kernelspec": {
   "display_name": "Julia 0.6.3",
   "language": "julia",
   "name": "julia-0.6"
  },
  "language_info": {
   "file_extension": ".jl",
   "mimetype": "application/julia",
   "name": "julia",
   "version": "0.6.3"
  }
 },
 "nbformat": 4,
 "nbformat_minor": 2
}
