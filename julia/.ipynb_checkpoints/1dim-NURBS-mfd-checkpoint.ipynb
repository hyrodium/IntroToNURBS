{
 "cells": [
  {
   "cell_type": "code",
   "execution_count": 1,
   "metadata": {},
   "outputs": [
    {
     "data": {
      "text/plain": [
       "pref (generic function with 1 method)"
      ]
     },
     "execution_count": 1,
     "metadata": {},
     "output_type": "execute_result"
    }
   ],
   "source": [
    "using Luxor\n",
    "using IntervalSets\n",
    "using ForwardDiff\n",
    "using Plots\n",
    "gr()\n",
    "\n",
    "function Bsp(p,k,i::Int64,t)::Float64\n",
    "    if(p==0)\n",
    "        return k[i]≤t<k[i+1]||(k[i]≠k[i+1]==k[end]==t)\n",
    "    else\n",
    "        B=0;\n",
    "        if(k[i+p]-k[i]≠0)\n",
    "            B+=Bsp(p-1,k,i,t)*(t-k[i])/(k[i+p]-k[i])\n",
    "        end\n",
    "        if(k[i+p+1]-k[i+1]≠0)\n",
    "            B+=Bsp(p-1,k,i+1,t)*(k[i+p+1]-t)/(k[i+p+1]-k[i+1])\n",
    "        end\n",
    "        return B\n",
    "    end\n",
    "end\n",
    "\n",
    "function cof(f,a,b)\n",
    "    f(a),\n",
    "    3*(f(2*a/3+b/3)-(8*f(a)+f(b))/27)-3*(f(a/3+2*b/3)-(f(a)+8*f(b))/27)/2,\n",
    "    -3*(f(2*a/3+b/3)-(8*f(a)+f(b))/27)/2+3*(f(a/3+2*b/3)-(f(a)+8*f(b))/27),\n",
    "    f(b)\n",
    "end\n",
    "\n",
    "function fastuniq(v)\n",
    "  v1 = Vector{eltype(v)}()\n",
    "  if length(v)>0\n",
    "    laste = v[1]\n",
    "    push!(v1,laste)\n",
    "    for e in v\n",
    "      if !(e ≈ laste)\n",
    "        laste = e\n",
    "        push!(v1,laste)\n",
    "      end\n",
    "    end\n",
    "  end\n",
    "  return v1\n",
    "end\n",
    "\n",
    "function Mesh(k,partn)\n",
    "    K=fastuniq(k)\n",
    "    K=[K[i]+(j/(partn))*(K[i+1]-K[i]) for i in 1:(length(K)-1), j in 0:(partn-1)]\n",
    "    append!(sort(reshape(K,prod(size(K)))),k[end])\n",
    "end\n",
    "\n",
    "function BspCurve(N;name=\"NURBSmfd.svg\",up=5,down=-5,right=5,left=-5,step=50)\n",
    "    d,p,k,w,a=N\n",
    "\n",
    "    P(t)=sum(w[i]Bsp(p,k,i,t)*a[i,:]/sum(w[j]Bsp(p,k,j,t) for j in 1:(length(k)-p-1)) for i in 1:(length(k)-p-1))\n",
    "    \n",
    "    Drawing(step*(right-left),step*(up-down),name)\n",
    "    Luxor.origin(-step*left,step*up)\n",
    "    background(\"white\")\n",
    "    sethue(\"red\")\n",
    "    K=fastuniq(k[1+p:end-p])\n",
    "    move(step*Point([1,-1].*P(K[1])...))\n",
    "\n",
    "    if((length(fastuniq(w))>1)||(p>3))\n",
    "        K=Mesh(K,10)\n",
    "    end\n",
    "    N=length(K)\n",
    "    for i in 1:(N-1)\n",
    "        a₁,a₂,a₃,a₄=cof(t->P(t),K[i],K[i+1])\n",
    "        curve(step*Point([1,-1].*a₂...),step*Point([1,-1].*a₃...),step*Point([1,-1].*a₄...))\n",
    "    end\n",
    "    strokepath()\n",
    "    \n",
    "    sethue(\"black\")\n",
    "    setline(1)\n",
    "    Cp=[step*Point([1,-1].*a[i,:]...) for i in 1:size(a)[1]]\n",
    "    map(p->circle(p,2,:fill), Cp)\n",
    "    poly(Cp, :stroke)\n",
    "    \n",
    "    finish()\n",
    "end\n",
    "\n",
    "function href(N,k₊)\n",
    "    (d,p,k,w,a)=N\n",
    "    n=length(k)-p-1\n",
    "    pᵣ=p\n",
    "    kᵣ=sort(vcat(k,k₊))\n",
    "    nᵣ=length(kᵣ)-pᵣ-1\n",
    "    κ=[((nᵣ+1-i)/(nᵣ+1))*kᵣ[i]+(i/(nᵣ+1))*kᵣ[i+pᵣ+1] for i in 1:nᵣ]\n",
    "    C=[Bsp(pᵣ,kᵣ,i,κ[j]) for j in 1:nᵣ, i in 1:nᵣ]\n",
    "    D=C\\[Bsp(p,k,j,κ[i]) for i in 1:nᵣ, j in 1:n]\n",
    "    wᵣ=D*w\n",
    "    aᵣ=[sum(w[i]*D[l,i]*a[i,j] for i in 1:n) for l in 1:nᵣ, j in 1:2]./wᵣ\n",
    "    Nᵣ=(d,pᵣ,kᵣ,wᵣ,aᵣ)\n",
    "end\n",
    "\n",
    "function pref(N,p₊)\n",
    "    (d,p,k,w,a)=N\n",
    "    n=length(k)-p-1\n",
    "    pᵣ=p+p₊\n",
    "    k₊=repeat(fastuniq(k),inner=p₊)\n",
    "    kᵣ=sort(vcat(k,k₊))\n",
    "    nᵣ=length(kᵣ)-pᵣ-1\n",
    "    κ=[((nᵣ+1-i)/(nᵣ+1))*kᵣ[i]+(i/(nᵣ+1))*kᵣ[i+pᵣ+1] for i in 1:nᵣ]\n",
    "    C=[Bsp(pᵣ,kᵣ,i,κ[j]) for j in 1:nᵣ, i in 1:nᵣ]\n",
    "    D=C\\[Bsp(p,k,j,κ[i]) for i in 1:nᵣ, j in 1:n]\n",
    "    wᵣ=D*w\n",
    "    aᵣ=[sum(w[i]*D[l,i]*a[i,j] for i in 1:n) for l in 1:nᵣ, j in 1:2]./wᵣ\n",
    "    Nᵣ=(d,pᵣ,kᵣ,wᵣ,aᵣ)\n",
    "end"
   ]
  },
  {
   "cell_type": "code",
   "execution_count": 4,
   "metadata": {},
   "outputs": [
    {
     "data": {
      "text/plain": [
       "(1, 3, [0, 0, 0, 0, 1, 2, 4, 8, 11, 11, 11, 11], [1, 1, 1, 1, 1, 1, 1, 1], [2.38047 -0.0771761; -0.901931 0.120214; … ; -1.33296 -3.8949; -0.705453 1.43125])"
      ]
     },
     "execution_count": 4,
     "metadata": {},
     "output_type": "execute_result"
    }
   ],
   "source": [
    "d=1\n",
    "p=3\n",
    "k=[0,0,0,0,1,2,4,8,11,11,11,11]\n",
    "w=[1,1,4,1,1/3,1,1,1]\n",
    "w=[1,1,1,1,1,1,1,1]\n",
    "a=(2*rand(8,2)-1)*5\n",
    "N=(d,p,k,w,a)"
   ]
  },
  {
   "cell_type": "code",
   "execution_count": 5,
   "metadata": {},
   "outputs": [
    {
     "data": {
      "text/plain": [
       "true"
      ]
     },
     "execution_count": 5,
     "metadata": {},
     "output_type": "execute_result"
    }
   ],
   "source": [
    "BspCurve(N,name=\"1dim.svg\")\n",
    "k₊=[2.5,8.2,8.3,8.5];\n",
    "BspCurve(href(N,k₊),name=\"1dimh.svg\")\n",
    "p₊=4\n",
    "BspCurve(pref(N,p₊),name=\"1dimp.svg\")"
   ]
  },
  {
   "cell_type": "code",
   "execution_count": 6,
   "metadata": {},
   "outputs": [
    {
     "data": {
      "text/plain": [
       "SVGb (generic function with 1 method)"
      ]
     },
     "execution_count": 6,
     "metadata": {},
     "output_type": "execute_result"
    }
   ],
   "source": [
    "\n",
    "function SVGb(p,k,n;name=\"BCA.svg\",up=5,down=-5,right=5,left=-5,step=50)\n",
    "    k₁,k₂=k\n",
    "    n₁,n₂=n\n",
    "    K₁,K₂=linspace(minimum(k₁),maximum(k₁),n₁+1), linspace(minimum(k₂),maximum(k₂),n₂+1)\n",
    "    N₁,N₂=length(k₁),length(k₂)\n",
    "\n",
    "    Drawing(step*(right-left),step*(up-down),name)\n",
    "    Luxor.origin(-step*left,step*up)\n",
    "    background(\"white\")\n",
    "    sethue(\"blue\")\n",
    "\n",
    "    for j in 1:(n₂+1)\n",
    "        move(step*Point([1,-1].*p([k₁[1],K₂[j]])...))\n",
    "        for i in 1:(N₁-1)\n",
    "            a₁,a₂,a₃,a₄=cof(t->p([t,K₂[j]]),k₁[i],k₁[i+1])\n",
    "            curve(step*Point([1,-1].*a₂...),step*Point([1,-1].*a₃...),step*Point([1,-1].*a₄...))\n",
    "        end\n",
    "    end\n",
    "    for j in 1:(n₁+1)\n",
    "        move(step*Point([1,-1].*p([K₁[j],k₂[1]])...))\n",
    "        for i in 1:(N₂-1)\n",
    "            a₁,a₂,a₃,a₄=cof(t->p([K₁[j],t]),k₂[i],k₂[i+1])\n",
    "            curve(step*Point([1,-1].*a₂...),step*Point([1,-1].*a₃...),step*Point([1,-1].*a₄...))\n",
    "        end\n",
    "    end\n",
    "    strokepath()\n",
    "    finish()\n",
    "end"
   ]
  },
  {
   "cell_type": "code",
   "execution_count": 10,
   "metadata": {},
   "outputs": [
    {
     "ename": "LoadError",
     "evalue": "\u001b[91mMethodError: no method matching SVGb(::#q, ::StepRangeLen{Float64,Base.TwicePrecision{Float64},Base.TwicePrecision{Float64}}; name=\"sb.svg\")\u001b[0m\nClosest candidates are:\n  SVGb(::Any, ::Any, \u001b[91m::Any\u001b[39m; name, up, down, right, left, step) at In[6]:3\u001b[39m",
     "output_type": "error",
     "traceback": [
      "\u001b[91mMethodError: no method matching SVGb(::#q, ::StepRangeLen{Float64,Base.TwicePrecision{Float64},Base.TwicePrecision{Float64}}; name=\"sb.svg\")\u001b[0m\nClosest candidates are:\n  SVGb(::Any, ::Any, \u001b[91m::Any\u001b[39m; name, up, down, right, left, step) at In[6]:3\u001b[39m",
      ""
     ]
    }
   ],
   "source": [
    "q(t)=[cos(5t),cos(3t)+sin(3t)]\n",
    "k=linspace(0,2π,60);\n",
    "SVGb(q,k,name=\"sb.svg\")"
   ]
  },
  {
   "cell_type": "code",
   "execution_count": null,
   "metadata": {},
   "outputs": [],
   "source": []
  }
 ],
 "metadata": {
  "kernelspec": {
   "display_name": "Julia 0.6.3",
   "language": "julia",
   "name": "julia-0.6"
  },
  "language_info": {
   "file_extension": ".jl",
   "mimetype": "application/julia",
   "name": "julia",
   "version": "0.6.3"
  }
 },
 "nbformat": 4,
 "nbformat_minor": 2
}
